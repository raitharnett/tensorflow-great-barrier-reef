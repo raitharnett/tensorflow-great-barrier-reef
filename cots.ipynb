{
  "nbformat": 4,
  "nbformat_minor": 0,
  "metadata": {
    "colab": {
      "name": "cots.ipynb",
      "provenance": [],
      "collapsed_sections": [],
      "authorship_tag": "ABX9TyNkyMOH8Hpr2tXhvHhiX1Li",
      "include_colab_link": true
    },
    "kernelspec": {
      "name": "python3",
      "display_name": "Python 3"
    },
    "language_info": {
      "name": "python"
    }
  },
  "cells": [
    {
      "cell_type": "markdown",
      "metadata": {
        "id": "view-in-github",
        "colab_type": "text"
      },
      "source": [
        "<a href=\"https://colab.research.google.com/github/raitharnett/tensorflow-great-barrier-reef/blob/main/cots.ipynb\" target=\"_parent\"><img src=\"https://colab.research.google.com/assets/colab-badge.svg\" alt=\"Open In Colab\"/></a>"
      ]
    },
    {
      "cell_type": "code",
      "execution_count": 59,
      "metadata": {
        "id": "5f0jp4VQO1tw"
      },
      "outputs": [],
      "source": [
        "%%capture\n",
        "!pip install --upgrade --force-reinstall --no-deps kaggle"
      ]
    },
    {
      "cell_type": "code",
      "source": [
        "%alias install_kaggle mkdir -p ~/.kaggle/ && mv kaggle.json ~/.kaggle/ && chmod 600 ~/.kaggle/kaggle.json"
      ],
      "metadata": {
        "id": "yCKc7Lq8Qh8h"
      },
      "execution_count": 60,
      "outputs": []
    },
    {
      "cell_type": "code",
      "source": [
        "%alias download_cots_data kaggle competitions download -c tensorflow-great-barrier-reef --force >& /dev/null"
      ],
      "metadata": {
        "id": "OeJ5hgQDRBgk"
      },
      "execution_count": 61,
      "outputs": []
    },
    {
      "cell_type": "code",
      "source": [
        "%alias install_cots_data unzip -d  tensorflow-great-barrier-reef tensorflow-great-barrier-reef.zip >& /dev/null"
      ],
      "metadata": {
        "id": "Es3QY-0PSvuC"
      },
      "execution_count": 62,
      "outputs": []
    },
    {
      "cell_type": "code",
      "source": [
        "# download tensorflow-great-barrier-reef data and import library used to submit predictions\n",
        "from google.colab import files\n",
        "import os\n",
        "import sys\n",
        "COTS_DATA = '/content/tensorflow-great-barrier-reef'\n",
        "if not os.path.isdir(COTS_DATA):\n",
        "  uploaded = files.upload()\n",
        "  for fn in uploaded.keys():\n",
        "    print('User uploaded file \"{name}\" with length {length} bytes'.format(\n",
        "        name=fn, length=len(uploaded[fn])))\n",
        "  %install_kaggle\n",
        "  %download_cots_data\n",
        "  %install_cots_data\n",
        "sys.path.insert(0, COTS_DATA)\n",
        "import greatbarrierreef"
      ],
      "metadata": {
        "id": "xTR1OLloPXGb"
      },
      "execution_count": 63,
      "outputs": []
    },
    {
      "cell_type": "code",
      "source": [
        ""
      ],
      "metadata": {
        "id": "Mq8gBnCOT3-D"
      },
      "execution_count": 63,
      "outputs": []
    }
  ]
}